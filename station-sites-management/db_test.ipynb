{
 "cells": [
  {
   "cell_type": "code",
   "execution_count": 1,
   "id": "b28a85f8-f6a7-41fe-abcd-b1cd953ebe8b",
   "metadata": {},
   "outputs": [],
   "source": [
    "import pymongo\n",
    "import pandas as pd\n",
    "import os\n",
    "from dotenv import load_dotenv\n",
    "\n",
    "import pymongo.errors as mongo_errors\n",
    "\n",
    "import certifi"
   ]
  },
  {
   "cell_type": "code",
   "execution_count": 7,
   "id": "8baf026f-1bd1-4be2-b3d6-676bb117dd29",
   "metadata": {},
   "outputs": [
    {
     "name": "stdout",
     "output_type": "stream",
     "text": [
      "mongodb://localhost:27017/sparkplug\n"
     ]
    }
   ],
   "source": [
    "load_dotenv()\n",
    "\n",
    "# Create the connection URI\n",
    "#connection_uri = f\"mongodb://{username}:{password}@{host}:{port}/{database_name}\"\n",
    "ca = certifi.where()\n",
    "connection_uri = os.environ['L_MONGO_URI']\n",
    "\n",
    "print(connection_uri)\n",
    "\n",
    "# Connect to MongoDB\n",
    "client = pymongo.MongoClient(connection_uri)\n",
    "\n",
    "# Access the specific database\n",
    "db = client['sparkplug']\n",
    "# db = client['testing'] # For testing small sample, comment out for production"
   ]
  },
  {
   "cell_type": "code",
   "execution_count": 8,
   "id": "a10ff145-17e4-47d5-bb90-2d26fe69759f",
   "metadata": {},
   "outputs": [
    {
     "name": "stdout",
     "output_type": "stream",
     "text": [
      "Connected to MongoDB server: {'version': '7.0.2', 'gitVersion': '02b3c655e1302209ef046da6ba3ef6749dd0b62a', 'modules': [], 'allocator': 'system', 'javascriptEngine': 'mozjs', 'sysInfo': 'deprecated', 'versionArray': [7, 0, 2, 0], 'openssl': {'running': 'Apple Secure Transport'}, 'buildEnvironment': {'distmod': '', 'distarch': 'aarch64', 'cc': '/Applications/Xcode13.2.1.app/Contents/Developer/Toolchains/XcodeDefault.xctoolchain/usr/bin/clang: Apple clang version 13.0.0 (clang-1300.0.29.30)', 'ccflags': '-Wno-error=unknown-warning-option -isysroot /Applications/Xcode13.2.1.app/Contents/Developer/Platforms/MacOSX.platform/Developer/SDKs/MacOSX12.1.sdk -mmacosx-version-min=11.0 --target=darwin20.0.0 -arch arm64 -Werror -include mongo/platform/basic.h -ffp-contract=off -fasynchronous-unwind-tables -g2 -Wall -Wsign-compare -Wno-unknown-pragmas -Winvalid-pch -fno-omit-frame-pointer -fno-strict-aliasing -O2 -Wno-unused-local-typedefs -Wno-unused-function -Wno-unused-private-field -Wno-deprecated-declarations -Wno-tautological-constant-out-of-range-compare -Wno-tautological-constant-compare -Wno-tautological-unsigned-zero-compare -Wno-tautological-unsigned-enum-zero-compare -Wno-unused-const-variable -Wno-missing-braces -Wno-inconsistent-missing-override -Wno-potentially-evaluated-expression -Wno-unused-lambda-capture -Wunguarded-availability -fstack-protector-strong -fno-limit-debug-info -Wimplicit-fallthrough', 'cxx': '/Applications/Xcode13.2.1.app/Contents/Developer/Toolchains/XcodeDefault.xctoolchain/usr/bin/clang++: Apple clang version 13.0.0 (clang-1300.0.29.30)', 'cxxflags': '-Werror=unused-result -Woverloaded-virtual -Wpessimizing-move -Wno-undefined-var-template -Wno-instantiation-after-specialization -fsized-deallocation -Wno-defaulted-function-deleted -Wunused-exception-parameter -Wno-deprecated -stdlib=libc++ -std=c++20', 'linkflags': '-Wl,-syslibroot,/Applications/Xcode13.2.1.app/Contents/Developer/Platforms/MacOSX.platform/Developer/SDKs/MacOSX12.1.sdk -mmacosx-version-min=11.0 --target=darwin20.0.0 -arch arm64 -Wl,-fatal_warnings -Wl,-bind_at_load -fstack-protector-strong -stdlib=libc++', 'target_arch': 'aarch64', 'target_os': 'macOS', 'cppdefines': 'SAFEINT_USE_INTRINSICS 0 PCRE2_STATIC NDEBUG ASIO_HAS_STD_INVOKE_RESULT ABSL_FORCE_ALIGNED_ACCESS BOOST_ENABLE_ASSERT_DEBUG_HANDLER BOOST_FILESYSTEM_NO_CXX20_ATOMIC_REF BOOST_LOG_NO_SHORTHAND_NAMES BOOST_LOG_USE_NATIVE_SYSLOG BOOST_LOG_WITHOUT_THREAD_ATTR BOOST_MATH_NO_LONG_DOUBLE_MATH_FUNCTIONS BOOST_SYSTEM_NO_DEPRECATED BOOST_THREAD_USES_DATETIME BOOST_THREAD_VERSION 5'}, 'bits': 64, 'debug': False, 'maxBsonObjectSize': 16777216, 'macOS': {'osProductVersion': '14.1.2', 'osRelease': '23.1.0', 'version': 'Darwin Kernel Version 23.1.0: Mon Oct  9 21:28:12 PDT 2023; root:xnu-10002.41.9~6/RELEASE_ARM64_T8103'}, 'storageEngines': ['devnull', 'wiredTiger'], 'ok': 1.0}\n"
     ]
    }
   ],
   "source": [
    "# Test connection\n",
    "\n",
    "try:\n",
    "    # Attempt to retrieve the server status\n",
    "    server_status = client.server_info()\n",
    "    print(\"Connected to MongoDB server:\", server_status)\n",
    "except mongo_errors.ConnectionFailure as e:\n",
    "    print(\"Connection Failure: \", e)\n",
    "except mongo_errors.ConfigurationError as e:\n",
    "    print(\"Configuration Error: \", e)\n",
    "except mongo_errors.PyMongoError as e:\n",
    "    print(\"PyMongo Error: \", e)\n",
    "except Exception as e:\n",
    "    print(\"An error occurred: \", e)"
   ]
  },
  {
   "cell_type": "code",
   "execution_count": 13,
   "id": "a962f795-9a54-4491-b70e-8ab85aab7732",
   "metadata": {},
   "outputs": [
    {
     "ename": "NameError",
     "evalue": "name 'jsonify' is not defined",
     "output_type": "error",
     "traceback": [
      "\u001b[0;31m---------------------------------------------------------------------------\u001b[0m",
      "\u001b[0;31mNameError\u001b[0m                                 Traceback (most recent call last)",
      "Cell \u001b[0;32mIn[13], line 14\u001b[0m\n\u001b[1;32m     11\u001b[0m \u001b[38;5;66;03m# Fetch one document\u001b[39;00m\n\u001b[1;32m     12\u001b[0m document \u001b[38;5;241m=\u001b[39m collection\u001b[38;5;241m.\u001b[39mfind_one()\n\u001b[0;32m---> 14\u001b[0m \u001b[38;5;28mprint\u001b[39m(\u001b[43mjsonify\u001b[49m(document))\n",
      "\u001b[0;31mNameError\u001b[0m: name 'jsonify' is not defined"
     ]
    }
   ],
   "source": [
    "# Establish a connection to MongoDB\n",
    "connection_uri = os.environ['L_MONGO_URI']\n",
    "mongo_client = pymongo.MongoClient(connection_uri)\n",
    "\n",
    "# Select the database\n",
    "db = mongo_client[\"sparkplug\"]\n",
    "\n",
    "# Select the collection\n",
    "collection = db[\"transactions\"]\n",
    "\n",
    "# Fetch one document\n",
    "document = collection.find_one()\n",
    "\n",
    "print(document)"
   ]
  },
  {
   "cell_type": "code",
   "execution_count": null,
   "id": "b00d6771-9fac-4fc0-8783-59de1dbcc5da",
   "metadata": {},
   "outputs": [],
   "source": []
  },
  {
   "cell_type": "code",
   "execution_count": null,
   "id": "f4d79e64-9a4a-47dd-a689-52d1f9c01cc8",
   "metadata": {},
   "outputs": [],
   "source": []
  },
  {
   "cell_type": "code",
   "execution_count": null,
   "id": "86cbb942-a501-4f8b-9a2a-7585a6861f00",
   "metadata": {},
   "outputs": [],
   "source": []
  }
 ],
 "metadata": {
  "kernelspec": {
   "display_name": "Python 3 (ipykernel)",
   "language": "python",
   "name": "python3"
  },
  "language_info": {
   "codemirror_mode": {
    "name": "ipython",
    "version": 3
   },
   "file_extension": ".py",
   "mimetype": "text/x-python",
   "name": "python",
   "nbconvert_exporter": "python",
   "pygments_lexer": "ipython3",
   "version": "3.10.11"
  }
 },
 "nbformat": 4,
 "nbformat_minor": 5
}
