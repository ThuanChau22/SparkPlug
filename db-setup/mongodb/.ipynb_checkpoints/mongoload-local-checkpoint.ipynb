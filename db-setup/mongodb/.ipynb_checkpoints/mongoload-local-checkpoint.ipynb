{
 "cells": [
  {
   "cell_type": "code",
   "execution_count": 1,
   "id": "34b0ca4c-af12-4519-8b19-76a0b8b760c8",
   "metadata": {},
   "outputs": [],
   "source": [
    "import pymongo\n",
    "import pandas as pd\n",
    "import os\n",
    "\n",
    "import pymongo.errors as mongo_errors\n",
    "\n",
    "import certifi"
   ]
  },
  {
   "cell_type": "code",
   "execution_count": 2,
   "id": "514e7fd3-1746-4bd7-9f77-7a1fddd9eb4d",
   "metadata": {},
   "outputs": [],
   "source": [
    "def build_collection(df, collection, column_mapping, indices, ind_comp=None):\n",
    "    \"\"\"\n",
    "    Inserts data from a pandas DataFrame into a MongoDB collection based on specified column mapping.\n",
    "\n",
    "    :param df: pandas DataFrame containing the data to be inserted.\n",
    "    :param collection: MongoDB collection object where the data will be inserted.\n",
    "    :param column_mapping: Dictionary mapping the DataFrame column names to MongoDB document field names.\n",
    "    :param indices: List of field names to create index for.\n",
    "    :param ind_comp: List of list containing multiple fields to create compound indices.\n",
    "    \"\"\"\n",
    "\n",
    "    # Load documents\n",
    "    for index, row in df.iterrows():\n",
    "        # Create a document for each row using the column mapping\n",
    "        document = {mongo_attr: row[csv_col] for csv_col, mongo_attr in column_mapping.items()}\n",
    "\n",
    "        # Insert the document into MongoDB\n",
    "        collection.insert_one(document)\n",
    "\n",
    "    \n",
    "    # Create indices\n",
    "    for field in indices:\n",
    "        collection.create_index(field)\n",
    "    \n",
    "    # Create compound indices\n",
    "    if ind_comp is not None:\n",
    "        for combo in ind_comp:\n",
    "            f_list = [];\n",
    "            for field in combo:\n",
    "                f_list.append((field))\n",
    "            collection.create_index(f_list)\n"
   ]
  },
  {
   "cell_type": "code",
   "execution_count": 3,
   "id": "fc59e0f8-18b2-4a60-a013-de5c95489e38",
   "metadata": {},
   "outputs": [],
   "source": [
    "# Test with local database\n",
    "\n",
    "# MongoDB connection\n",
    "## Create a connection to the MongoDB server\n",
    "client = pymongo.MongoClient('localhost', 27017)\n",
    "client.drop_database('sparkplug')\n",
    "\n",
    "## Connect to a database (it will be created if it doesn't exist)\n",
    "db = client['sparkplug']\n"
   ]
  },
  {
   "cell_type": "code",
   "execution_count": 4,
   "id": "1f56dff5-1fd1-471d-a430-a8fb0a9e306e",
   "metadata": {},
   "outputs": [],
   "source": [
    "# Build transactions collection\n",
    "df_transactions = pd.read_csv('data/transactions.csv')\n",
    "df_transactions = df_transactions.head(100) # For testing small sample, comment out for production\n",
    "\n",
    "collection_transactions = db['transactions']\n",
    "\n",
    "column_mapping_transactions = {\n",
    "    'Station Name': 'station_name',\n",
    "    'station_id': 'station_id',\n",
    "    'simulated_start_date': 'start_date',\n",
    "    'simulated_end_date': 'end_date',\n",
    "    'simulated_transaction_date': 'transaction_date',\n",
    "    'Total Duration (hh:mm:ss)': 'total_duration',\n",
    "    'Charging Time (hh:mm:ss)': 'charging_time',\n",
    "    'Energy (kWh)': 'energy_kwh',\n",
    "    'GHG Savings (kg)': 'ghg_savings_kg',\n",
    "    'Gasoline Savings (gallons)': 'gas_savings_gal',\n",
    "    'Port Type': 'charge_level',\n",
    "    'Port Number': 'port_number',\n",
    "    'Plug Type': 'plug_type',\n",
    "    'City': 'city',\n",
    "    'State/Province': 'state',\n",
    "    'Postal Code': 'postal_code',\n",
    "    'Country': 'country',\n",
    "    'Currency': 'currency',\n",
    "    'simulated_fee': 'fee',\n",
    "    'Ended By': 'ended_by',\n",
    "    'Plug In Event Id': 'plug_in_event_id',\n",
    "    'User ID': 'user_id',\n",
    "}\n",
    "\n",
    "indices_transactions = ['station_id', 'charge_level', 'plug_type', 'postal_code', 'country', 'user_id']\n",
    "ind_comp_transactions = [\n",
    "    ['country', 'state', 'city'],\n",
    "    ['country', 'state']\n",
    "]\n",
    "\n",
    "## Run builder\n",
    "build_collection(df_transactions, collection_transactions, \n",
    "                 column_mapping_transactions, indices_transactions, ind_comp_transactions)"
   ]
  },
  {
   "cell_type": "code",
   "execution_count": 5,
   "id": "a0003dbd-4933-4a4c-97b3-2240c1829afd",
   "metadata": {},
   "outputs": [],
   "source": [
    "# Initiate station logs collection\n",
    "collection_stations = db['station_logs']"
   ]
  },
  {
   "cell_type": "code",
   "execution_count": 9,
   "id": "d66b32de-e212-4a6b-b39c-503d3e73e658",
   "metadata": {},
   "outputs": [],
   "source": []
  },
  {
   "cell_type": "code",
   "execution_count": null,
   "id": "9e851e91-e7f8-41f6-9cf5-11e29e7ed6a4",
   "metadata": {},
   "outputs": [],
   "source": []
  },
  {
   "cell_type": "code",
   "execution_count": null,
   "id": "1a7894fb-5de1-46aa-9c2d-4b4e6a6df4ea",
   "metadata": {},
   "outputs": [],
   "source": []
  },
  {
   "cell_type": "code",
   "execution_count": null,
   "id": "8a88bfcd-1157-47c7-a47b-3dcf0cd83d17",
   "metadata": {},
   "outputs": [],
   "source": []
  },
  {
   "cell_type": "code",
   "execution_count": null,
   "id": "d101701a-711e-4dcb-8c4e-64a687d2893a",
   "metadata": {},
   "outputs": [],
   "source": []
  },
  {
   "cell_type": "code",
   "execution_count": null,
   "id": "a7acbd0f-cfcd-4704-8bfc-78a79ccb4f08",
   "metadata": {},
   "outputs": [],
   "source": []
  },
  {
   "cell_type": "code",
   "execution_count": null,
   "id": "cc14f768-021c-4928-96f9-8d025ffbf5b9",
   "metadata": {},
   "outputs": [],
   "source": []
  }
 ],
 "metadata": {
  "kernelspec": {
   "display_name": "Python 3 (ipykernel)",
   "language": "python",
   "name": "python3"
  },
  "language_info": {
   "codemirror_mode": {
    "name": "ipython",
    "version": 3
   },
   "file_extension": ".py",
   "mimetype": "text/x-python",
   "name": "python",
   "nbconvert_exporter": "python",
   "pygments_lexer": "ipython3",
   "version": "3.10.11"
  }
 },
 "nbformat": 4,
 "nbformat_minor": 5
}
