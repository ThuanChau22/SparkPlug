{
 "cells": [
  {
   "cell_type": "code",
   "execution_count": 1,
   "id": "34b0ca4c-af12-4519-8b19-76a0b8b760c8",
   "metadata": {},
   "outputs": [],
   "source": [
    "from pymongo import MongoClient\n",
    "\n",
    "# Create a connection to the MongoDB server\n",
    "client = MongoClient('localhost', 27017)\n",
    "\n",
    "# Connect to a database (it will be created if it doesn't exist)\n",
    "db = client['sparkplug']"
   ]
  },
  {
   "cell_type": "code",
   "execution_count": 2,
   "id": "a0003dbd-4933-4a4c-97b3-2240c1829afd",
   "metadata": {},
   "outputs": [
    {
     "data": {
      "text/plain": [
       "InsertOneResult(ObjectId('656a472084168a704cdde54f'), acknowledged=True)"
      ]
     },
     "execution_count": 2,
     "metadata": {},
     "output_type": "execute_result"
    }
   ],
   "source": [
    "# Connect to a collection (it will be created if it doesn't exist)\n",
    "collection = db['test']\n",
    "\n",
    "# Example: Insert a document\n",
    "collection.insert_one({\"name\": \"John Doe\", \"age\": 30})\n",
    "\n"
   ]
  },
  {
   "cell_type": "code",
   "execution_count": 3,
   "id": "8a88bfcd-1157-47c7-a47b-3dcf0cd83d17",
   "metadata": {},
   "outputs": [
    {
     "name": "stdout",
     "output_type": "stream",
     "text": [
      "{'_id': ObjectId('656a469786a6954445bb9d3f'), 'name': 'John Doe', 'age': 30}\n",
      "{'_id': ObjectId('656a46f686a6954445bb9d40'), 'name': 'John Doe', 'age': 30}\n",
      "{'_id': ObjectId('656a472084168a704cdde54f'), 'name': 'John Doe', 'age': 30}\n"
     ]
    }
   ],
   "source": [
    "# Example: Retrieve documents\n",
    "for doc in collection.find():\n",
    "    print(doc)"
   ]
  },
  {
   "cell_type": "code",
   "execution_count": null,
   "id": "d66b32de-e212-4a6b-b39c-503d3e73e658",
   "metadata": {},
   "outputs": [],
   "source": []
  }
 ],
 "metadata": {
  "kernelspec": {
   "display_name": "Python 3 (ipykernel)",
   "language": "python",
   "name": "python3"
  },
  "language_info": {
   "codemirror_mode": {
    "name": "ipython",
    "version": 3
   },
   "file_extension": ".py",
   "mimetype": "text/x-python",
   "name": "python",
   "nbconvert_exporter": "python",
   "pygments_lexer": "ipython3",
   "version": "3.10.11"
  }
 },
 "nbformat": 4,
 "nbformat_minor": 5
}
