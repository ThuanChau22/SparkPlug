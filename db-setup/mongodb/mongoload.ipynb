{
 "cells": [
  {
   "cell_type": "code",
   "execution_count": 1,
   "id": "34b0ca4c-af12-4519-8b19-76a0b8b760c8",
   "metadata": {},
   "outputs": [],
   "source": [
    "import pymongo\n",
    "import pandas as pd\n",
    "import os"
   ]
  },
  {
   "cell_type": "code",
   "execution_count": 5,
   "id": "514e7fd3-1746-4bd7-9f77-7a1fddd9eb4d",
   "metadata": {},
   "outputs": [],
   "source": [
    "def build_collection(df, collection, column_mapping, indices, ind_comp=None):\n",
    "    \"\"\"\n",
    "    Inserts data from a pandas DataFrame into a MongoDB collection based on specified column mapping.\n",
    "\n",
    "    :param df: pandas DataFrame containing the data to be inserted.\n",
    "    :param collection: MongoDB collection object where the data will be inserted.\n",
    "    :param column_mapping: Dictionary mapping the DataFrame column names to MongoDB document field names.\n",
    "    :param indices: List of field names to create index for.\n",
    "    :param ind_comp: List of list containing multiple fields to create compound indices.\n",
    "    \"\"\"\n",
    "\n",
    "    # Load documents\n",
    "    for index, row in df.iterrows():\n",
    "        # Create a document for each row using the column mapping\n",
    "        document = {mongo_attr: row[csv_col] for csv_col, mongo_attr in column_mapping.items()}\n",
    "\n",
    "        # Insert the document into MongoDB\n",
    "        collection.insert_one(document)\n",
    "\n",
    "    \n",
    "    # Create indices\n",
    "    for field in indices:\n",
    "        collection.create_index(field)\n",
    "    \n",
    "    # Create compound indices\n",
    "    if ind_comp is not None:\n",
    "        for combo in ind_comp:\n",
    "            f_list = [];\n",
    "            for field in combo:\n",
    "                f_list.append((field))\n",
    "            collection.create_index(f_list)\n"
   ]
  },
  {
   "cell_type": "code",
   "execution_count": 6,
   "id": "fc59e0f8-18b2-4a60-a013-de5c95489e38",
   "metadata": {},
   "outputs": [],
   "source": [
    "# MongoDB connection\n",
    "## Create a connection to the MongoDB server\n",
    "client = pymongo.MongoClient('localhost', 27017)\n",
    "\n",
    "## Connect to a database (it will be created if it doesn't exist)\n",
    "db = client['sparkplug']"
   ]
  },
  {
   "cell_type": "code",
   "execution_count": 7,
   "id": "1f56dff5-1fd1-471d-a430-a8fb0a9e306e",
   "metadata": {},
   "outputs": [],
   "source": [
    "# Build transactions collection\n",
    "df_transactions = pd.read_csv('data/transactions.csv')\n",
    "collection_transactions = db['transactions']\n",
    "\n",
    "column_mapping_transactions = {\n",
    "    'Station Name': 'station_name',\n",
    "    'station_id': 'station_id',\n",
    "    'Start Date': 'start_date',\n",
    "    'End Date': 'end_date',\n",
    "    'Transaction Date (Pacific Time)': 'transaction_date',\n",
    "    'Total Duration (hh:mm:ss)': 'total_duration',\n",
    "    'Charging Time (hh:mm:ss)': 'charging_time',\n",
    "    'Energy (kWh)': 'energy',\n",
    "    'GHG Savings (kg)': 'ghg_savings',\n",
    "    'Gasoline Savings (gallons)': 'gas_savings',\n",
    "    'Port Type': 'charge_level',\n",
    "    'Port Number': 'port_number',\n",
    "    'Plug Type': 'plug_type',\n",
    "    'City': 'city',\n",
    "    'State/Province': 'state',\n",
    "    'Postal Code': 'postal_code',\n",
    "    'Country': 'country',\n",
    "    'Currency': 'currency',\n",
    "    'Fee': 'fee',\n",
    "    'Ended By': 'ended_by',\n",
    "    'Plug In Event Id': 'plug_in_event_id',\n",
    "    'User ID': 'user_id',\n",
    "}\n",
    "\n",
    "indices_transactions = ['station_id', 'charge_level', 'plug_type', 'postal_code', 'country', 'user_id']\n",
    "ind_comp_transactions = [\n",
    "    ['country', 'state', 'city'],\n",
    "    ['country', 'state']\n",
    "]\n",
    "\n",
    "## Run builder\n",
    "build_collection(df_transactions, collection_transactions, \n",
    "                 column_mapping_transactions, indices_transactions, ind_comp_transactions)"
   ]
  },
  {
   "cell_type": "code",
   "execution_count": 8,
   "id": "a0003dbd-4933-4a4c-97b3-2240c1829afd",
   "metadata": {},
   "outputs": [],
   "source": [
    "# Build stations collection\n",
    "df_stations = pd.read_csv('data/stations.csv')\n",
    "collection_stations = db['stations']\n",
    "\n",
    "column_mapping_stations = {\n",
    "    'id': 'station_id',\n",
    "    'price': 'price',\n",
    "    'site_id': 'site_id',\n",
    "    'mech_status': 'mech_status',\n",
    "    'elec_status': 'elec_status',\n",
    "    'net_status': 'net_status',\n",
    "    'update_log': 'update_log',\n",
    "}\n",
    "# IMPORTANT: need to store update log for each station, to calculate use time and downtime\n",
    "\n",
    "indices_stations = ['site_id', 'mech_status', 'elec_status', 'net_status']\n",
    "\n",
    "build_collection(df_stations, collection_stations, \n",
    "                 column_mapping_stations, indices_stations)"
   ]
  },
  {
   "cell_type": "code",
   "execution_count": 7,
   "id": "d66b32de-e212-4a6b-b39c-503d3e73e658",
   "metadata": {},
   "outputs": [],
   "source": []
  },
  {
   "cell_type": "code",
   "execution_count": 8,
   "id": "9e851e91-e7f8-41f6-9cf5-11e29e7ed6a4",
   "metadata": {},
   "outputs": [],
   "source": []
  },
  {
   "cell_type": "code",
   "execution_count": 9,
   "id": "1a7894fb-5de1-46aa-9c2d-4b4e6a6df4ea",
   "metadata": {},
   "outputs": [],
   "source": []
  },
  {
   "cell_type": "code",
   "execution_count": 29,
   "id": "8a88bfcd-1157-47c7-a47b-3dcf0cd83d17",
   "metadata": {},
   "outputs": [
    {
     "name": "stderr",
     "output_type": "stream",
     "text": [
      "IOPub data rate exceeded.\n",
      "The Jupyter server will temporarily stop sending output\n",
      "to the client in order to avoid crashing it.\n",
      "To change this limit, set the config variable\n",
      "`--ServerApp.iopub_data_rate_limit`.\n",
      "\n",
      "Current values:\n",
      "ServerApp.iopub_data_rate_limit=1000000.0 (bytes/sec)\n",
      "ServerApp.rate_limit_window=3.0 (secs)\n",
      "\n"
     ]
    }
   ],
   "source": []
  },
  {
   "cell_type": "code",
   "execution_count": 10,
   "id": "d101701a-711e-4dcb-8c4e-64a687d2893a",
   "metadata": {},
   "outputs": [],
   "source": [
    "# Cleanup\n",
    "collection_transactions.drop()"
   ]
  },
  {
   "cell_type": "code",
   "execution_count": null,
   "id": "a7acbd0f-cfcd-4704-8bfc-78a79ccb4f08",
   "metadata": {},
   "outputs": [],
   "source": []
  }
 ],
 "metadata": {
  "kernelspec": {
   "display_name": "Python 3 (ipykernel)",
   "language": "python",
   "name": "python3"
  },
  "language_info": {
   "codemirror_mode": {
    "name": "ipython",
    "version": 3
   },
   "file_extension": ".py",
   "mimetype": "text/x-python",
   "name": "python",
   "nbconvert_exporter": "python",
   "pygments_lexer": "ipython3",
   "version": "3.10.11"
  }
 },
 "nbformat": 4,
 "nbformat_minor": 5
}
