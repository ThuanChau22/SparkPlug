{
 "cells": [
  {
   "cell_type": "code",
   "execution_count": 14,
   "id": "34b0ca4c-af12-4519-8b19-76a0b8b760c8",
   "metadata": {},
   "outputs": [],
   "source": [
    "import pymongo\n",
    "import pandas as pd\n",
    "import os"
   ]
  },
  {
   "cell_type": "code",
   "execution_count": 13,
   "id": "fc59e0f8-18b2-4a60-a013-de5c95489e38",
   "metadata": {},
   "outputs": [],
   "source": [
    "# MongoDB connection\n",
    "## Create a connection to the MongoDB server\n",
    "client = pymongo.MongoClient('localhost', 27017)\n",
    "\n",
    "## Connect to a database (it will be created if it doesn't exist)\n",
    "db = client['sparkplug']"
   ]
  },
  {
   "cell_type": "code",
   "execution_count": 15,
   "id": "fc333922-1a7e-48c8-8c8b-8f37a9f62de9",
   "metadata": {},
   "outputs": [
    {
     "name": "stdout",
     "output_type": "stream",
     "text": [
      "/Users/raysheng/Documents/SparkPlug/db-setup/mongodb\n"
     ]
    }
   ],
   "source": [
    "current_directory = os.getcwd()\n",
    "print(current_directory)\n"
   ]
  },
  {
   "cell_type": "code",
   "execution_count": 20,
   "id": "9b6d4f75-077c-443a-9fc1-bc93040fbdc9",
   "metadata": {},
   "outputs": [],
   "source": [
    "# Data file reader\n",
    "file_path = 'data/transactions.csv'\n",
    "df = pd.read_csv(file_path)"
   ]
  },
  {
   "cell_type": "code",
   "execution_count": 26,
   "id": "a0003dbd-4933-4a4c-97b3-2240c1829afd",
   "metadata": {},
   "outputs": [],
   "source": [
    "# Connect to a collection (it will be created if it doesn't exist)\n",
    "collection = db['test']\n",
    "\n"
   ]
  },
  {
   "cell_type": "code",
   "execution_count": 27,
   "id": "d66b32de-e212-4a6b-b39c-503d3e73e658",
   "metadata": {},
   "outputs": [],
   "source": [
    "# Specify the columns\n",
    "column_mapping = {\n",
    "    'Station Name': 'station_name',\n",
    "    'station_id': 'station_id',\n",
    "    'Start Date': 'start_date',\n",
    "    'End Date': 'end_date',\n",
    "    'Transaction Date (Pacific Time)': 'transaction_date',\n",
    "    'Total Duration (hh:mm:ss)': 'total_duration',\n",
    "    'Charging Time (hh:mm:ss)': 'charging_time',\n",
    "    'Energy (kWh)': 'energy',\n",
    "    'GHG Savings (kg)': 'ghg_savings',\n",
    "    'Gasoline Savings (gallons)': 'gas_savings',\n",
    "    'Port Type': 'port_type',\n",
    "    'Port Number': 'port_number',\n",
    "    'Plug Type': 'plug_type',\n",
    "    'Currency': 'currency',\n",
    "    'Fee': 'fee',\n",
    "    'Ended By': 'ended_by',\n",
    "    'Plug In Event Id': 'plug_in_event_id',\n",
    "    'User ID': 'user_id',\n",
    "}"
   ]
  },
  {
   "cell_type": "code",
   "execution_count": 28,
   "id": "9e851e91-e7f8-41f6-9cf5-11e29e7ed6a4",
   "metadata": {},
   "outputs": [],
   "source": [
    "for index, row in df.iterrows():\n",
    "    # Create a document for each row, only including the specified columns\n",
    "    # document = {col: row[col] for col in columns_to_insert}\n",
    "    document = {mongo_attr: row[csv_col] for csv_col, mongo_attr in column_mapping.items()}\n",
    "\n",
    "    # Insert the document into MongoDB\n",
    "    collection.insert_one(document)"
   ]
  },
  {
   "cell_type": "code",
   "execution_count": 29,
   "id": "8a88bfcd-1157-47c7-a47b-3dcf0cd83d17",
   "metadata": {},
   "outputs": [
    {
     "name": "stderr",
     "output_type": "stream",
     "text": [
      "IOPub data rate exceeded.\n",
      "The Jupyter server will temporarily stop sending output\n",
      "to the client in order to avoid crashing it.\n",
      "To change this limit, set the config variable\n",
      "`--ServerApp.iopub_data_rate_limit`.\n",
      "\n",
      "Current values:\n",
      "ServerApp.iopub_data_rate_limit=1000000.0 (bytes/sec)\n",
      "ServerApp.rate_limit_window=3.0 (secs)\n",
      "\n"
     ]
    }
   ],
   "source": [
    "# Example: Retrieve documents\n",
    "for doc in collection.find():\n",
    "    print(doc)"
   ]
  },
  {
   "cell_type": "code",
   "execution_count": 25,
   "id": "d101701a-711e-4dcb-8c4e-64a687d2893a",
   "metadata": {},
   "outputs": [
    {
     "data": {
      "text/plain": [
       "DeleteResult({'n': 9999, 'ok': 1.0}, acknowledged=True)"
      ]
     },
     "execution_count": 25,
     "metadata": {},
     "output_type": "execute_result"
    }
   ],
   "source": [
    "collection.delete_many({})"
   ]
  },
  {
   "cell_type": "code",
   "execution_count": null,
   "id": "a7acbd0f-cfcd-4704-8bfc-78a79ccb4f08",
   "metadata": {},
   "outputs": [],
   "source": []
  }
 ],
 "metadata": {
  "kernelspec": {
   "display_name": "Python 3 (ipykernel)",
   "language": "python",
   "name": "python3"
  },
  "language_info": {
   "codemirror_mode": {
    "name": "ipython",
    "version": 3
   },
   "file_extension": ".py",
   "mimetype": "text/x-python",
   "name": "python",
   "nbconvert_exporter": "python",
   "pygments_lexer": "ipython3",
   "version": "3.10.11"
  }
 },
 "nbformat": 4,
 "nbformat_minor": 5
}
